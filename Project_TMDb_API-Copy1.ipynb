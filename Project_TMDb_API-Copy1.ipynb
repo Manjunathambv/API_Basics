{
 "cells": [
  {
   "cell_type": "markdown",
   "id": "fddb2d8c",
   "metadata": {},
   "source": [
    "\n",
    "### Project Details\n",
    "* For this project, we are using the TMDb (The Movie Database) API.\n",
    "* TMDb API enables you to find out the latest information about TV Shows, \n",
    "  Movies and the biggest names in entertainment sector for a marvelous and fun TV/Movie watching experience.\n",
    "  TMDb documentation link After joining TMDb, you can easily generate a new developer API key using this link Our Motivation for using TMDb API By collecting the data using TMDb API one can recommend TV Shows, Movies and all sorts of entertainment on the basis of user’s affinity to specific genres, actors, likes and dislikes.We can find details about upcoming TV Shows and Movies. We can find what is the most popular and/ or exclusive/new content at a given time.\n"
   ]
  },
  {
   "cell_type": "code",
   "execution_count": 1,
   "id": "dad3332f",
   "metadata": {},
   "outputs": [],
   "source": [
    "import requests\n",
    "import json"
   ]
  },
  {
   "cell_type": "code",
   "execution_count": 1,
   "id": "c0ea04da",
   "metadata": {},
   "outputs": [],
   "source": [
    "API_Key = \"yours\"\n",
    "API_Read_Access_Token = \"yours\"\n"
   ]
  },
  {
   "cell_type": "code",
   "execution_count": 3,
   "id": "be2d5cd6",
   "metadata": {},
   "outputs": [
    {
     "name": "stdout",
     "output_type": "stream",
     "text": [
      "534780\n"
     ]
    }
   ],
   "source": [
    "\"\"\"\n",
    "Find the 'id' of the movie \"Andhadhun\" using TMDb API.\n",
    "Output Format:\n",
    "Print the id of the movie.\n",
    "\"\"\"\n",
    "\n",
    "\n",
    "url = \"https://api.themoviedb.org/3/search/movie\"\n",
    "\n",
    "headers = {\n",
    "    \"accept\": \"application/json\",\n",
    "    \"Authorization\": \"yours\"}\n",
    "\n",
    "data = {\"query\":\"Andhadhun\"}\n",
    "response = requests.get(url, headers=headers, params = data)\n",
    "\n",
    "python_data = response.json()\n",
    "ans = python_data[\"results\"]\n",
    "for key in ans:\n",
    "    print(key[\"id\"])"
   ]
  },
  {
   "cell_type": "code",
   "execution_count": 4,
   "id": "8388bbe2",
   "metadata": {},
   "outputs": [
    {
     "name": "stdout",
     "output_type": "stream",
     "text": [
      "420\n"
     ]
    }
   ],
   "source": [
    "\"\"\"\n",
    "Fetch the company id company 'Marvel Studios' using TMDb. Print the id.\n",
    "\"\"\"\n",
    "url = \"https://api.themoviedb.org/3/search/company\"\n",
    "\n",
    "headers = {\n",
    "    \"accept\": \"application/json\",\n",
    "    \"Authorization\": \"yours\"}\n",
    "\n",
    "data = {\"query\":\"Marvel Studios\"}\n",
    "response = requests.get(url, headers=headers, params = data)\n",
    "python_data = response.json()\n",
    "ans = python_data[\"results\"]\n",
    "for key in ans:\n",
    "    if (key[\"name\"] == \"Marvel Studios\"):\n",
    "        print(key[\"id\"])\n"
   ]
  },
  {
   "cell_type": "code",
   "execution_count": 5,
   "id": "6a8c4109",
   "metadata": {},
   "outputs": [
    {
     "name": "stdout",
     "output_type": "stream",
     "text": [
      "2169 7.987\n"
     ]
    }
   ],
   "source": [
    "\"\"\"\n",
    "Find the vote count and vote average of the movie \"3 Idiots\" using the TMDb API\n",
    "Output format: Vote Count , Vote Average\n",
    "\"\"\"\n",
    "url = \"https://api.themoviedb.org/3/search/movie\"\n",
    "\n",
    "headers = {\n",
    "    \"accept\": \"application/json\",\n",
    "    \"Authorization\": \"yours\"}\n",
    "\n",
    "data = {\"query\":\"3 Idiots\"}\n",
    "response = requests.get(url, headers=headers, params = data)\n",
    "python_data = response.json()\n",
    "data = python_data[\"results\"]\n",
    "for key in data:\n",
    "    if key[\"title\"] == \"3 Idiots\":\n",
    "        print(key['vote_count'], key['vote_average'])"
   ]
  },
  {
   "cell_type": "code",
   "execution_count": 6,
   "id": "b8ffab50",
   "metadata": {},
   "outputs": [
    {
     "name": "stdout",
     "output_type": "stream",
     "text": [
      "Subway\n",
      "Suicide Kings\n",
      "Airport\n",
      "The Chase\n",
      "The Jewel of the Nile\n"
     ]
    }
   ],
   "source": [
    "\n",
    "import requests\n",
    "\n",
    "\n",
    "api_link = \"https://api.themoviedb.org/3\"\n",
    "\n",
    "\n",
    "params = {'query':\"Inception\", 'api_key':api_key}\n",
    "header = {'Accept': 'application/json'}\n",
    "\n",
    "\n",
    "response = requests.get(api_link + \"/search/movie\", headers=header, params=params)\n",
    "\n",
    "\n",
    "data = response.json()\n",
    "\n",
    "\n",
    "results = data.get('results')\n",
    "\n",
    "\n",
    "for result in results:\n",
    "    if result.get('original_title') == 'Inception':\n",
    "        id = result.get('id')\n",
    "\n",
    "\n",
    "params2 = {'api_key':api_key}\n",
    "response2 = requests.get(api_link + \"/movie/\" + str(id) + \"/similar\", headers=header, params=params2)\n",
    "\n",
    "data2 = response2.json()\n",
    "\n",
    "\n",
    "results2 = data2.get('results')\n",
    "\n",
    "for result in results2[:5]:\n",
    "    print(result.get(\"title\"))"
   ]
  },
  {
   "cell_type": "code",
   "execution_count": 7,
   "id": "6734f8c7",
   "metadata": {},
   "outputs": [
    {
     "name": "stdout",
     "output_type": "stream",
     "text": [
      "The Godfather - Drama, Crime, \n",
      "The Shawshank Redemption - Drama, Crime, \n",
      "The Godfather Part II - Drama, Crime, \n",
      "Schindler's List - Drama, History, War, \n",
      "12 Angry Men - Drama, \n",
      "The Dark Knight - Drama, Action, Crime, Thriller, \n",
      "The Green Mile - Fantasy, Drama, Crime, \n",
      "Pulp Fiction - Thriller, Crime, \n",
      "Forrest Gump - Comedy, Drama, Romance, \n",
      "The Lord of the Rings: The Return of the King - Adventure, Fantasy, Action, \n"
     ]
    }
   ],
   "source": [
    "\"\"\"\n",
    "Fetch the top rated english movies in the US region using the TMDb API. \n",
    "From the result, print the first 10 movies which have original language as english. Also print their genres.\n",
    "Note: Do not use the search/movies API for finding genres.\n",
    "Output Format:\n",
    "movie_name_1 - genre_1, genre_2 ....\n",
    "and so on..\n",
    "\"\"\"\n",
    "\n",
    "url = \"https://api.themoviedb.org/3/movie/top_rated\"\n",
    "headers = {\n",
    "    \"accept\": \"application/json\",\n",
    "    \"Authorization\": \"yours\"}\n",
    "\n",
    "data = {\"language\":\"english\",\n",
    "        \"region\": \"US\"}\n",
    "\n",
    "response = requests.get(\"https://api.themoviedb.org/3/movie/top_rated\", headers = headers, params = data)\n",
    "python_data = response.json()\n",
    "genre_id = {}\n",
    "genre_name = {}\n",
    "ans = python_data[\"results\"]\n",
    "for key in ans:\n",
    "    if key[\"original_language\"] == \"en\":\n",
    "        genre_id[key[\"id\"]] = key[\"original_title\"]\n",
    "        id_ = key[\"id\"]\n",
    "        url2 = f\"https://api.themoviedb.org/3/movie/{id_}\"\n",
    "        response = requests.get(url2, headers = headers)\n",
    "        data = response.json()\n",
    "        ans = data.get(\"genres\")\n",
    "        genre_name[key[\"original_title\"]] = ans\n",
    "n = 0\n",
    "for key, value in genre_name.items():\n",
    "    if n==10:\n",
    "        break\n",
    "    print(key, '-', end=\" \")\n",
    "    for val in value:\n",
    "        print(val[\"name\"], end=\", \")\n",
    "    n += 1\n",
    "    print()"
   ]
  },
  {
   "cell_type": "code",
   "execution_count": 8,
   "id": "59c9ddae",
   "metadata": {},
   "outputs": [
    {
     "name": "stdout",
     "output_type": "stream",
     "text": [
      "976\n",
      "Jason Statham  -  Shirebrook, Derbyshire, England, UK\n"
     ]
    }
   ],
   "source": [
    "\"\"\"\n",
    "Find the name and birthplace of the present most popular person according to TMDb API.\n",
    "Output Format:\n",
    "id\n",
    "name - birthplace\n",
    "\n",
    "\"\"\"\n",
    "url = \"https://api.themoviedb.org/3/person/popular\"\n",
    "headers = {\n",
    "    \"accept\": \"application/json\",\n",
    "    \"Authorization\": \"yours\"}\n",
    "data = {\n",
    "    \"language\" : \"en-US\"\n",
    "}\n",
    "\n",
    "response = requests.get(url, headers = headers, params = data)\n",
    "python_data = response.json()\n",
    "ans = python_data[\"results\"][0]\n",
    "id_ = ans[\"id\"]\n",
    "response = requests.get(f\"https://api.themoviedb.org/3/person/{id_}\", headers = headers)\n",
    "ans = response.json()\n",
    "print(id_)\n",
    "print(ans.get(\"name\"), \" - \", ans.get(\"place_of_birth\"))"
   ]
  },
  {
   "cell_type": "code",
   "execution_count": 9,
   "id": "7e6c3baa",
   "metadata": {},
   "outputs": [
    {
     "name": "stdout",
     "output_type": "stream",
     "text": [
      "aliaabhatt   Aliaa08\n"
     ]
    }
   ],
   "source": [
    "\"\"\"\n",
    "Fetch the Instagram and Twitter handle of Indian Actress \"Alia Bhatt\" from the TMDb API.\n",
    "Output Format\n",
    "Print the Instagram and Twitter IDs space separated.\n",
    "instagram_id twitter_id\n",
    "\"\"\"\n",
    "url = \"https://api.themoviedb.org/3/search/person\"\n",
    "headers = {\n",
    "    \"accept\": \"application/json\",\n",
    "    \"Authorization\": \"yours\"}\n",
    "\n",
    "data = {\n",
    "    \"query\" : \"Alia Bhatt\"\n",
    "}\n",
    "\n",
    "response = requests.get(url, headers = headers, params = data)\n",
    "python_data = response.json()\n",
    "ans = python_data[\"results\"]\n",
    "for key in ans:\n",
    "    id_ = key.get(\"id\")\n",
    "    \n",
    "url = \"https://api.themoviedb.org/3/person/\"\n",
    "response = requests.get(url + str(id_) + \"/external_ids\", headers = headers)\n",
    "python_data = response.json()\n",
    "print(python_data.get(\"instagram_id\"), \" \",python_data.get(\"twitter_id\"))"
   ]
  },
  {
   "cell_type": "code",
   "execution_count": 10,
   "id": "1408ac36",
   "metadata": {},
   "outputs": [
    {
     "name": "stdout",
     "output_type": "stream",
     "text": [
      "Lt. Pete 'Maverick' Mitchell\n",
      "Ethan Hunt\n",
      "Chief John Anderton\n",
      "Maj. William 'Bill' Cage\n"
     ]
    }
   ],
   "source": [
    "\"\"\"\n",
    "Fetch the names of the character played by Tom Cruise in the movies:\n",
    "Top Gun\n",
    "Mission: Impossible - Fallout\n",
    "Minority Report\n",
    "Edge of Tomorrow\n",
    "Output Format:\n",
    "Print the names of the characters played by Tom Cruise line separated, in the respective order given in question.\n",
    "\"\"\"\n",
    "\n",
    "url = \"https://api.themoviedb.org/3/search/person\"\n",
    "headers = {\n",
    "    \"accept\": \"application/json\",\n",
    "    \"Authorization\": \"yours\"}\n",
    "\n",
    "data = {\n",
    "    \"query\" : \"Tom Cruise\"\n",
    "}\n",
    "\n",
    "response = requests.get(url, headers = headers, params = data)\n",
    "python_data = response.json()\n",
    "ans = python_data[\"results\"]\n",
    "id_ = ans[0][\"id\"]\n",
    "\n",
    "url2 = \"https://api.themoviedb.org/3/person/\"\n",
    "response = requests.get(url2+str(id_)+\"/movie_credits\", headers = headers)\n",
    "python_data = response.json()\n",
    "ans = python_data['cast']\n",
    "\n",
    "l = ['Top Gun', 'Mission: Impossible - Fallout', 'Minority Report', 'Edge of Tomorrow']\n",
    "for i in l:\n",
    "    for j in ans:\n",
    "        if j['title'] == i:\n",
    "            print(j['character'])\n",
    "            break\n"
   ]
  },
  {
   "cell_type": "code",
   "execution_count": 11,
   "id": "c4aeb998",
   "metadata": {},
   "outputs": [
    {
     "name": "stdout",
     "output_type": "stream",
     "text": [
      "Yes\n"
     ]
    }
   ],
   "source": [
    "\"\"\"\n",
    "TMDb 2.4\n",
    "Send Feedback\n",
    "Did James McAvoy play a role in the movie Deadpool 2. Print Yes or No.\n",
    "\"\"\"\n",
    "\n",
    "url = \"https://api.themoviedb.org/3/search/person\"\n",
    "headers = {\n",
    "    \"accept\": \"application/json\",\n",
    "    \"Authorization\": \"yours\"}\n",
    "data = {\n",
    "    \"query\" : \"James McAvoy\"\n",
    "}\n",
    "\n",
    "response = requests.get(url, headers = headers, params = data)\n",
    "python_data = response.json()\n",
    "ans = python_data[\"results\"][0]\n",
    "id_ = ans[\"id\"]\n",
    "\n",
    "url2 = \"https://api.themoviedb.org/3/person/\"\n",
    "response = requests.get(url2+str(id_)+\"/movie_credits\", headers = headers)\n",
    "python_data = response.json()\n",
    "ans = python_data['cast']\n",
    "flag = False\n",
    "for key in ans:\n",
    "    if key['original_title'] == 'Deadpool 2':\n",
    "        flag = True\n",
    "        break\n",
    "if flag == True:\n",
    "    print(\"Yes\")\n",
    "else:\n",
    "    print(\"No\")"
   ]
  },
  {
   "cell_type": "code",
   "execution_count": 12,
   "id": "6dcc480f",
   "metadata": {},
   "outputs": [
    {
     "name": "stdout",
     "output_type": "stream",
     "text": [
      "No\n"
     ]
    }
   ],
   "source": [
    "\"\"\"\n",
    "Using the result obtained in previous question, \n",
    "find out if James McAvoy was credited for his role in movie Deadpool 2. Print Yes or No.\n",
    "\"\"\"\n",
    "\n",
    "\n",
    "url = \"https://api.themoviedb.org/3/search/person\"\n",
    "headers = {\n",
    "    \"accept\": \"application/json\",\n",
    "    \"Authorization\": \"yours\"}\n",
    "\n",
    "data = {\n",
    "    \"query\" : \"James McAvoy\"\n",
    "}\n",
    "\n",
    "response = requests.get(url, headers = headers, params = data)\n",
    "python_data = response.json()\n",
    "ans = python_data[\"results\"][0]\n",
    "id_ = ans[\"id\"]\n",
    "\n",
    "url2 = \"https://api.themoviedb.org/3/person/\"\n",
    "response = requests.get(url2+str(id_)+\"/movie_credits\", headers = headers)\n",
    "python_data = response.json()\n",
    "ans = python_data['cast']\n",
    "flag = True\n",
    "for key in ans:\n",
    "    if key['original_title'] == 'Deadpool 2':\n",
    "        if \"uncredited\" in key[\"character\"]:\n",
    "            flag = False\n",
    "\n",
    "if flag:\n",
    "    print('Yes')\n",
    "else:\n",
    "    print('No')\n",
    "        "
   ]
  },
  {
   "cell_type": "code",
   "execution_count": 13,
   "id": "8dd096dc",
   "metadata": {},
   "outputs": [
    {
     "name": "stdout",
     "output_type": "stream",
     "text": [
      "Six young people from New York City, on their own and struggling to survive in the real world, find the companionship, comfort and support they get from each other to be the perfect antidote to the pressures of life.\n",
      "Friends is a short-lived kids-oriented drama that aired in the spring of 1979. The series, which was produced by Aaron Spelling and aired on ABC, starred Charlie Aiken, Jill Whelan, and Jarrod Johnson as three Southern Californian 11-year-olds. Karen Morrow also appeared. Only five one-hour episodes were produced before the series was cancelled.\n",
      "\n"
     ]
    }
   ],
   "source": [
    "\"\"\"\n",
    "Fetch the overview of the TV Show \"FRIENDS\" using TMDb API.\n",
    "Output Format:\n",
    "Print the Overview.\n",
    "\"\"\"\n",
    "\n",
    "url = \"https://api.themoviedb.org/3/search/tv\"\n",
    "\n",
    "headers = {\n",
    "    \"accept\": \"application/json\",\n",
    "    \"Authorization\": \"yours\"}\n",
    "\n",
    "data = {\n",
    "    \"query\" : \"FRIENDS\"\n",
    "}\n",
    "\n",
    "response = requests.get(url, headers = headers, params = data)\n",
    "python_data = response.json()\n",
    "for key in python_data['results']:\n",
    "    if key['name'] == 'Friends':\n",
    "        print(key['overview'])\n"
   ]
  },
  {
   "cell_type": "code",
   "execution_count": 14,
   "id": "eb6a7f1a",
   "metadata": {},
   "outputs": [
    {
     "name": "stdout",
     "output_type": "stream",
     "text": [
      "The Holographic Excitation  -  2012-10-25\n"
     ]
    }
   ],
   "source": [
    "\"\"\"\n",
    "Fetch the name and air date of S06E05 of the TV Show 'The Big Bang Theory' from TMDb API.\n",
    "Output Format:\n",
    "episode_name - air_date\n",
    "\"\"\"\n",
    "\n",
    "url = \"https://api.themoviedb.org/3/search/tv\"\n",
    "\n",
    "headers = {\n",
    "    \"accept\": \"application/json\",\n",
    "    \"Authorization\": \"yours\"}\n",
    "\n",
    "data = {\n",
    "    \"query\" : \"The Big Bang Theory\"\n",
    "}\n",
    "\n",
    "response = requests.get(url, headers=headers, params = data)\n",
    "pd = response.json()\n",
    "id_ = pd['results'][0]['id']\n",
    "\n",
    "\n",
    "\n",
    "data = {\n",
    "    \n",
    "    \"series_id\" : id_,\n",
    "    \"season_number\" : 6,\n",
    "    \"episode_number\" : 5\n",
    "}\n",
    "\n",
    "response = requests.get(f\"https://api.themoviedb.org/3/tv/{data['series_id']}/season/{data['season_number']}/episode/{data['episode_number']}\", headers = headers)\n",
    "python_data = response.json()\n",
    "print(python_data['name'],' - ', python_data['air_date'])"
   ]
  },
  {
   "cell_type": "code",
   "execution_count": 15,
   "id": "32e05505",
   "metadata": {},
   "outputs": [
    {
     "name": "stdout",
     "output_type": "stream",
     "text": [
      "Loki's time has come.\n",
      "She's coming for them all.\n",
      "Empty\n",
      "Empty\n",
      "Empty\n"
     ]
    }
   ],
   "source": [
    "\"\"\"\n",
    "TMDb 3.3\n",
    "Send Feedback\n",
    "Fetch the trending TV Shows for the week from the TMDb API and print the taglines of the top 5 shows. \n",
    "If there is no tagline, print 'Empty' instead\n",
    "Output Format:\n",
    "Print the taglines in new line.\n",
    "\"\"\"\n",
    "headers = {\n",
    "    \"accept\": \"application/json\",\n",
    "    \"Authorization\": \"yours\"}\n",
    "data = {\n",
    "    \"time_window\" : \"week\"\n",
    "}\n",
    "response = requests.get(f\"https://api.themoviedb.org/3/trending/tv/{data['time_window']}\", headers = headers)\n",
    "python_data = response.json()\n",
    "ans = python_data[\"results\"][:5]\n",
    "movie_id = []\n",
    "for key in ans:\n",
    "    id_ = key[\"id\"]\n",
    "    movie_id.append(id_)\n",
    "for id_ in movie_id:\n",
    "    response = requests.get(\"https://api.themoviedb.org/3/tv/\" + str(id_), headers = headers)\n",
    "    python_data = response.json()\n",
    "    if python_data['tagline'] == '':\n",
    "        print('Empty')\n",
    "    else:\n",
    "        print(python_data[\"tagline\"])"
   ]
  },
  {
   "cell_type": "code",
   "execution_count": 16,
   "id": "6befeaa0",
   "metadata": {},
   "outputs": [
    {
     "name": "stdout",
     "output_type": "stream",
     "text": [
      "Late Night with Seth Meyers\n",
      "The Price Is Right\n",
      "Let's Make a Deal\n",
      "The Tonight Show Starring Jimmy Fallon\n",
      "Emmerdale\n",
      "Goosebumps\n",
      "Hollyoaks\n",
      "Richard Osman's House of Games\n",
      "PBS NewsHour\n",
      "Around the Horn\n",
      "Days of Our Lives\n",
      "General Hospital\n",
      "CBS Evening News\n",
      "The Graham Norton Show\n",
      "The Repair Shop\n",
      "Real Time with Bill Maher\n",
      "The Vintage French Farmhouse\n",
      "Naked News\n",
      "Dramatic Self-Help Strategy\n",
      "Ridiculousness\n",
      "Big Mouth\n",
      "The Bold and the Beautiful\n",
      "Have I Got News for You\n",
      "House Hunters\n",
      "Power Book IV: Force\n",
      "Big Brother: Late and Live\n",
      "Still Up\n",
      "Gold Rush\n",
      "The Young and the Restless\n",
      "Ghosts\n",
      "Four in a Bed\n",
      "Diners, Drive-Ins and Dives\n",
      "Shark Tank\n",
      "Shoresy\n",
      "Transplant\n",
      "Divorce Court\n",
      "The Jennifer Hudson Show\n",
      "All Elite Wrestling: Rampage\n",
      "Shining Vale\n",
      "The UnXplained\n",
      "Bering Sea Gold\n",
      "Sherri\n",
      "Washington Week with The Atlantic\n",
      "MotorWeek\n",
      "WWE SmackDown\n",
      "Dateline\n",
      "Gardeners' World\n",
      "The Proof Is Out There\n",
      "My Lottery Dream Home\n",
      "Love After Lockup\n",
      "On Patrol: Live\n",
      "Surviving Paradise\n",
      "The Good Ship Murder\n",
      "Ted's Notebook\n",
      "The Price Is Right at Night\n",
      "On Patrol: First Shift\n",
      "Off the Record\n",
      "Susan Calman's Grand Day Out\n",
      "Bria Mack Gets a Life\n",
      "WWE NXT: Level Up\n",
      "MLP MYM\n",
      "Ghost Files\n",
      "The Real Housewives of Lagos\n",
      "The Real Murders of Los Angeles\n",
      "Building Impossible with Daniel Ashville\n",
      "First Time Fixer\n",
      "Project Fear\n",
      "Grime Kids\n",
      "Beach Cottage Chronicles\n",
      "About England\n",
      "Zero Waste Life\n",
      "The Real Murders of Los Angeles\n",
      "The Great House Giveaway\n",
      "PJ Masks: Power Heroes\n",
      "Uncanny\n",
      "Cutlers Court\n",
      "Big Brother: Live Stream\n",
      "Beat for Beat\n",
      "Supertato\n",
      "The Marsh\n",
      "Crime Beat\n",
      "Talking Business\n",
      "Gogglebox\n",
      "Big Brother\n",
      "iCrime with Elizabeth Vargas\n"
     ]
    }
   ],
   "source": [
    "\"\"\"\n",
    "Print the names of all the TV shows to be aired today whose original language is english.\n",
    "Output Format:\n",
    "Print the name of each TV show in a new line.\n",
    "\"\"\"\n",
    "url = \"https://api.themoviedb.org/3/tv/airing_today\"\n",
    "headers = {\n",
    "    \"accept\": \"application/json\",\n",
    "    \"Authorization\": \"yours\"}\n",
    "\n",
    "response = requests.get(url, headers=headers)\n",
    "python_data = response.json()\n",
    "total_pages = python_data[\"total_pages\"]\n",
    "\n",
    "for i in range(1,total_pages + 1):\n",
    "    url = \"https://api.themoviedb.org/3/tv/airing_today\"\n",
    "    response = requests.get(url, headers=headers, params = {'page' : i})\n",
    "    python_data = response.json()\n",
    "    for key in python_data['results']:\n",
    "        if key['original_language'] == 'en':\n",
    "            print(key['name'])"
   ]
  },
  {
   "cell_type": "code",
   "execution_count": 17,
   "id": "6c760106",
   "metadata": {},
   "outputs": [
    {
     "name": "stdout",
     "output_type": "stream",
     "text": [
      "10 5\n"
     ]
    }
   ],
   "source": [
    "\"\"\"\n",
    "Count the number of males and females in the cast of \"Money Heist\" using the TMDb API.\n",
    "Output Format:\n",
    "Print the count of male and female space separated.\n",
    "male_count female_count\n",
    "\n",
    "\"\"\"\n",
    "\n",
    "url = \"https://api.themoviedb.org/3/search/tv\"\n",
    "headers = {\n",
    "    \"accept\": \"application/json\",\n",
    "    \"Authorization\": \"yours\"}\n",
    "\n",
    "response = requests.get(url, headers=headers, params = {'query' : 'Money Heist'})\n",
    "python_data = response.json()\n",
    "id_ = python_data['results'][0]['id']\n",
    "url2 = \"https://api.themoviedb.org/3/tv/\" + str(id_) + \"/credits\"\n",
    "response2 = requests.get(url2, headers=headers)\n",
    "python_data = response2.json()\n",
    "female = 0\n",
    "male = 0\n",
    "for key in python_data['cast']:\n",
    "    if key['gender'] == 1:\n",
    "        female += 1\n",
    "    else:\n",
    "        male += 1\n",
    "print(male,female)"
   ]
  },
  {
   "cell_type": "code",
   "execution_count": null,
   "id": "072ad972",
   "metadata": {},
   "outputs": [],
   "source": []
  }
 ],
 "metadata": {
  "kernelspec": {
   "display_name": "Python 3",
   "language": "python",
   "name": "python3"
  },
  "language_info": {
   "codemirror_mode": {
    "name": "ipython",
    "version": 3
   },
   "file_extension": ".py",
   "mimetype": "text/x-python",
   "name": "python",
   "nbconvert_exporter": "python",
   "pygments_lexer": "ipython3",
   "version": "3.8.8"
  }
 },
 "nbformat": 4,
 "nbformat_minor": 5
}
